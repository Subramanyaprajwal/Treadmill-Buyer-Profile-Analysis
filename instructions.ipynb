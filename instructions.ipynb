{
 "cells": [
  {
   "cell_type": "markdown",
   "metadata": {
    "id": "nd0m6yxsYL94"
   },
   "source": [
    "# Treadmill Buyer Profile\n",
    "\n"
   ]
  },
  {
   "cell_type": "markdown",
   "metadata": {
    "id": "xStfxQeJYT2C"
   },
   "source": [
    "## Assignment\n",
    "The market research team at AeroFit wants to identify the characteristics of the target audience for each type of treadmill offered by the company, to provide a better recommendation of the treadmills to new customers. The team decides to investigate whether there are differences across the product with respect to customer characteristics.\n",
    "\n",
    "Perform descriptive analytics to create a customer profile for each AeroFit treadmill product by developing appropriate tables and charts. For each AeroFit treadmill product, construct two-way contingency tables and compute all conditional and marginal probabilities along with their insights/impact on the business."
   ]
  },
  {
   "cell_type": "markdown",
   "metadata": {
    "id": "yQiONgEkYXmO"
   },
   "source": [
    "## Data Description\n",
    "The company collected data on individuals who purchased a treadmill from the AeroFit stores during the prior three months. The dataset in aerofit_treadmill_data.csv has the following features:\n",
    "\n",
    " - Product - product purchased: KP281, KP481, or KP781\n",
    " - Age - in years\n",
    " - Gender - male/female\n",
    " - Education - in years\n",
    " - MaritalStatus - single or partnered\n",
    " - Usage - the average number of times the customer plans to use the treadmill each week\n",
    " - Fitness - self-rated fitness on a 1-5 scale, where 1 is the poor shape and 5 is the excellent shape\n",
    " - Income - annual income in US dollars\n",
    " - Miles - the average number of miles the customer expects to walk/run each week"
   ]
  },
  {
   "cell_type": "markdown",
   "metadata": {
    "id": "grdHSgvNYgAf"
   },
   "source": [
    "## Practicalities\n",
    "Analyze the provided data and provide insights to the best of your abilities. Include the relevant tables/graphs/visualization to explain what you have learned about the market. Make sure that the solution reflects your entire thought process including the preparation of data - it is more important how the code is structured rather than just the final result or plot.\n",
    "\n",
    "#### To download the dataset <a href=\"https://drive.google.com/drive/folders/1Ydzh4PkLb81RDgMd_FpSdM-FvBhkkeIx?usp=sharing\"> Click here </a>\n"
   ]
  },
  {
   "cell_type": "code",
   "execution_count": 1,
   "metadata": {},
   "outputs": [],
   "source": [
    "import pandas as pd\n",
    "import numpy as np\n",
    "import matplotlib.pyplot as plt\n",
    "import seaborn as sns"
   ]
  },
  {
   "cell_type": "code",
   "execution_count": 3,
   "metadata": {},
   "outputs": [
    {
     "data": {
      "text/html": [
       "<div>\n",
       "<style scoped>\n",
       "    .dataframe tbody tr th:only-of-type {\n",
       "        vertical-align: middle;\n",
       "    }\n",
       "\n",
       "    .dataframe tbody tr th {\n",
       "        vertical-align: top;\n",
       "    }\n",
       "\n",
       "    .dataframe thead th {\n",
       "        text-align: right;\n",
       "    }\n",
       "</style>\n",
       "<table border=\"1\" class=\"dataframe\">\n",
       "  <thead>\n",
       "    <tr style=\"text-align: right;\">\n",
       "      <th></th>\n",
       "      <th>Product</th>\n",
       "      <th>Age</th>\n",
       "      <th>Gender</th>\n",
       "      <th>Education</th>\n",
       "      <th>MaritalStatus</th>\n",
       "      <th>Usage</th>\n",
       "      <th>Fitness</th>\n",
       "      <th>Income</th>\n",
       "      <th>Miles</th>\n",
       "    </tr>\n",
       "  </thead>\n",
       "  <tbody>\n",
       "    <tr>\n",
       "      <th>0</th>\n",
       "      <td>KP281</td>\n",
       "      <td>18</td>\n",
       "      <td>Male</td>\n",
       "      <td>14</td>\n",
       "      <td>Single</td>\n",
       "      <td>3</td>\n",
       "      <td>4</td>\n",
       "      <td>29562</td>\n",
       "      <td>112</td>\n",
       "    </tr>\n",
       "    <tr>\n",
       "      <th>1</th>\n",
       "      <td>KP281</td>\n",
       "      <td>19</td>\n",
       "      <td>Male</td>\n",
       "      <td>15</td>\n",
       "      <td>Single</td>\n",
       "      <td>2</td>\n",
       "      <td>3</td>\n",
       "      <td>31836</td>\n",
       "      <td>75</td>\n",
       "    </tr>\n",
       "    <tr>\n",
       "      <th>2</th>\n",
       "      <td>KP281</td>\n",
       "      <td>19</td>\n",
       "      <td>Female</td>\n",
       "      <td>14</td>\n",
       "      <td>Partnered</td>\n",
       "      <td>4</td>\n",
       "      <td>3</td>\n",
       "      <td>30699</td>\n",
       "      <td>66</td>\n",
       "    </tr>\n",
       "    <tr>\n",
       "      <th>3</th>\n",
       "      <td>KP281</td>\n",
       "      <td>19</td>\n",
       "      <td>Male</td>\n",
       "      <td>12</td>\n",
       "      <td>Single</td>\n",
       "      <td>3</td>\n",
       "      <td>3</td>\n",
       "      <td>32973</td>\n",
       "      <td>85</td>\n",
       "    </tr>\n",
       "    <tr>\n",
       "      <th>4</th>\n",
       "      <td>KP281</td>\n",
       "      <td>20</td>\n",
       "      <td>Male</td>\n",
       "      <td>13</td>\n",
       "      <td>Partnered</td>\n",
       "      <td>4</td>\n",
       "      <td>2</td>\n",
       "      <td>35247</td>\n",
       "      <td>47</td>\n",
       "    </tr>\n",
       "  </tbody>\n",
       "</table>\n",
       "</div>"
      ],
      "text/plain": [
       "  Product  Age  Gender  Education MaritalStatus  Usage  Fitness  Income  Miles\n",
       "0   KP281   18    Male         14        Single      3        4   29562    112\n",
       "1   KP281   19    Male         15        Single      2        3   31836     75\n",
       "2   KP281   19  Female         14     Partnered      4        3   30699     66\n",
       "3   KP281   19    Male         12        Single      3        3   32973     85\n",
       "4   KP281   20    Male         13     Partnered      4        2   35247     47"
      ]
     },
     "execution_count": 3,
     "metadata": {},
     "output_type": "execute_result"
    }
   ],
   "source": [
    "\n",
    "file_path = 'aerofit_treadmill_data.csv'\n",
    "data = pd.read_csv(file_path)\n",
    "\n",
    "data.head()"
   ]
  },
  {
   "cell_type": "code",
   "execution_count": 4,
   "metadata": {},
   "outputs": [
    {
     "name": "stdout",
     "output_type": "stream",
     "text": [
      "<class 'pandas.core.frame.DataFrame'>\n",
      "RangeIndex: 180 entries, 0 to 179\n",
      "Data columns (total 9 columns):\n",
      " #   Column         Non-Null Count  Dtype \n",
      "---  ------         --------------  ----- \n",
      " 0   Product        180 non-null    object\n",
      " 1   Age            180 non-null    int64 \n",
      " 2   Gender         180 non-null    object\n",
      " 3   Education      180 non-null    int64 \n",
      " 4   MaritalStatus  180 non-null    object\n",
      " 5   Usage          180 non-null    int64 \n",
      " 6   Fitness        180 non-null    int64 \n",
      " 7   Income         180 non-null    int64 \n",
      " 8   Miles          180 non-null    int64 \n",
      "dtypes: int64(6), object(3)\n",
      "memory usage: 12.8+ KB\n"
     ]
    },
    {
     "data": {
      "text/plain": [
       "array(['Single', 'Partnered'], dtype=object)"
      ]
     },
     "execution_count": 4,
     "metadata": {},
     "output_type": "execute_result"
    }
   ],
   "source": [
    "\n",
    "data.info()\n",
    "\n",
    "\n",
    "data.describe()\n",
    "\n",
    "\n",
    "data['Product'].unique()\n",
    "data['Gender'].unique()\n",
    "data['MaritalStatus'].unique()\n"
   ]
  },
  {
   "cell_type": "code",
   "execution_count": 5,
   "metadata": {},
   "outputs": [
    {
     "name": "stdout",
     "output_type": "stream",
     "text": [
      "          Age                                                  Gender  \\\n",
      "        count   mean       std   min    25%   50%    75%   max  count   \n",
      "Product                                                                 \n",
      "KP281    80.0  28.55  7.221452  18.0  23.00  26.0  33.00  50.0   80.0   \n",
      "KP481    60.0  28.90  6.645248  19.0  24.00  26.0  33.25  48.0   60.0   \n",
      "KP781    40.0  29.10  6.971738  22.0  24.75  27.0  30.25  48.0   40.0   \n",
      "\n",
      "                   ...   Income           Miles                               \\\n",
      "             mean  ...      75%       max count        mean        std   min   \n",
      "Product            ...                                                         \n",
      "KP281    0.500000  ...  53439.0   68220.0  80.0   82.787500  28.874102  38.0   \n",
      "KP481    0.483333  ...  53439.0   67083.0  60.0   87.933333  33.263135  21.0   \n",
      "KP781    0.175000  ...  90886.0  104581.0  40.0  166.900000  60.066544  80.0   \n",
      "\n",
      "                                     \n",
      "           25%    50%    75%    max  \n",
      "Product                              \n",
      "KP281     66.0   85.0   94.0  188.0  \n",
      "KP481     64.0   85.0  106.0  212.0  \n",
      "KP781    120.0  160.0  200.0  360.0  \n",
      "\n",
      "[3 rows x 64 columns]\n"
     ]
    }
   ],
   "source": [
    "# Encode categorical variables\n",
    "data['Gender'] = data['Gender'].map({'Male': 0, 'Female': 1})\n",
    "data['MaritalStatus'] = data['MaritalStatus'].map({'Single': 0, 'Partnered': 1})\n",
    "\n",
    "# statistics for each treadmill product\n",
    "product_groups = data.groupby('Product')\n",
    "\n",
    "# statistics for each product\n",
    "product_stats = product_groups.describe()\n",
    "print(product_stats)"
   ]
  },
  {
   "cell_type": "code",
   "execution_count": 6,
   "metadata": {},
   "outputs": [
    {
     "data": {
      "image/png": "[encoded data removed]",
      "text/plain": [
       "<Figure size 1500x1000 with 4 Axes>"
      ]
     },
     "metadata": {},
     "output_type": "display_data"
    }
   ],
   "source": [
    "import matplotlib.pyplot as plt\n",
    "import seaborn as sns\n",
    "\n",
    "plt.figure(figsize=(15, 10))\n",
    "\n",
    "# Age distribution\n",
    "plt.subplot(2, 2, 1)\n",
    "sns.histplot(data=data, x='Age', hue='Product', multiple='stack')\n",
    "plt.title('Age Distribution by Product')\n",
    "\n",
    "# Income distribution\n",
    "plt.subplot(2, 2, 2)\n",
    "sns.histplot(data=data, x='Income', hue='Product', multiple='stack')\n",
    "plt.title('Income Distribution by Product')\n",
    "\n",
    "# Fitness level distribution\n",
    "plt.subplot(2, 2, 3)\n",
    "sns.countplot(data=data, x='Fitness', hue='Product')\n",
    "plt.title('Fitness Level Distribution by Product')\n",
    "\n",
    "# Usage distribution\n",
    "plt.subplot(2, 2, 4)\n",
    "sns.histplot(data=data, x='Usage', hue='Product', multiple='stack')\n",
    "plt.title('Usage Distribution by Product')\n",
    "\n",
    "plt.tight_layout()\n",
    "plt.show()"
   ]
  },
  {
   "cell_type": "code",
   "execution_count": 7,
   "metadata": {},
   "outputs": [
    {
     "name": "stdout",
     "output_type": "stream",
     "text": [
      "Age vs Product Contingency Table:\n",
      " Product  KP281  KP481  KP781\n",
      "Age                         \n",
      "18           1      0      0\n",
      "19           3      1      0\n",
      "20           2      3      0\n",
      "21           4      3      0\n",
      "22           4      0      3\n",
      "23           8      7      3\n",
      "24           5      3      4\n",
      "25           7     11      7\n",
      "26           7      3      2\n",
      "27           3      1      3\n",
      "28           6      0      3\n",
      "29           3      1      2\n",
      "30           2      2      3\n",
      "31           2      3      1\n",
      "32           2      2      0\n",
      "33           2      5      1\n",
      "34           2      3      1\n",
      "35           3      4      1\n",
      "36           1      0      0\n",
      "37           1      1      0\n",
      "38           4      2      1\n",
      "39           1      0      0\n",
      "40           1      3      1\n",
      "41           1      0      0\n",
      "42           0      0      1\n",
      "43           1      0      0\n",
      "44           1      0      0\n",
      "45           0      1      1\n",
      "46           1      0      0\n",
      "47           1      0      1\n",
      "48           0      1      1\n",
      "50           1      0      0\n",
      "\n",
      "Gender vs Product Contingency Table:\n",
      " Product  KP281  KP481  KP781\n",
      "Gender                      \n",
      "0           40     31     33\n",
      "1           40     29      7\n",
      "\n",
      "Education vs Product Contingency Table:\n",
      " Product    KP281  KP481  KP781\n",
      "Education                     \n",
      "12             2      1      0\n",
      "13             3      2      0\n",
      "14            30     23      2\n",
      "15             4      1      0\n",
      "16            39     31     15\n",
      "18             2      2     19\n",
      "20             0      0      1\n",
      "21             0      0      3\n",
      "\n",
      "Marital Status vs Product Contingency Table:\n",
      " Product        KP281  KP481  KP781\n",
      "MaritalStatus                     \n",
      "0                 32     24     17\n",
      "1                 48     36     23\n",
      "\n",
      "Fitness vs Product Contingency Table:\n",
      " Product  KP281  KP481  KP781\n",
      "Fitness                     \n",
      "1            1      1      0\n",
      "2           14     12      0\n",
      "3           54     39      4\n",
      "4            9      8      7\n",
      "5            2      0     29\n"
     ]
    }
   ],
   "source": [
    "# Two-way contingency tables\n",
    "age_product_ct = pd.crosstab(data['Age'], data['Product'])\n",
    "gender_product_ct = pd.crosstab(data['Gender'], data['Product'])\n",
    "education_product_ct = pd.crosstab(data['Education'], data['Product'])\n",
    "maritalstatus_product_ct = pd.crosstab(data['MaritalStatus'], data['Product'])\n",
    "fitness_product_ct = pd.crosstab(data['Fitness'], data['Product'])\n",
    "\n",
    "# Display the contingency tables\n",
    "print(\"Age vs Product Contingency Table:\\n\", age_product_ct)\n",
    "print(\"\\nGender vs Product Contingency Table:\\n\", gender_product_ct)\n",
    "print(\"\\nEducation vs Product Contingency Table:\\n\", education_product_ct)\n",
    "print(\"\\nMarital Status vs Product Contingency Table:\\n\", maritalstatus_product_ct)\n",
    "print(\"\\nFitness vs Product Contingency Table:\\n\", fitness_product_ct)\n"
   ]
  },
  {
   "cell_type": "code",
   "execution_count": 11,
   "metadata": {},
   "outputs": [
    {
     "data": {
      "text/plain": [
       "Fitness\n",
       "3    0.538889\n",
       "5    0.172222\n",
       "2    0.144444\n",
       "4    0.133333\n",
       "1    0.011111\n",
       "Name: proportion, dtype: float64"
      ]
     },
     "execution_count": 11,
     "metadata": {},
     "output_type": "execute_result"
    }
   ],
   "source": [
    "# Compute conditional probabilities\n",
    "age_product_cond = age_product_ct.div(age_product_ct.sum(axis=1), axis=0)\n",
    "gender_product_cond = gender_product_ct.div(gender_product_ct.sum(axis=1), axis=0)\n",
    "education_product_cond = education_product_ct.div(education_product_ct.sum(axis=1), axis=0)\n",
    "maritalstatus_product_cond = maritalstatus_product_ct.div(maritalstatus_product_ct.sum(axis=1), axis=0)\n",
    "fitness_product_cond = fitness_product_ct.div(fitness_product_ct.sum(axis=1), axis=0)\n",
    "\n",
    "# Display conditional probabilities\n",
    "age_product_cond\n",
    "gender_product_cond\n",
    "education_product_cond\n",
    "maritalstatus_product_cond\n",
    "fitness_product_cond\n",
    "\n",
    "# Compute marginal probabilities\n",
    "product_marginal = data['Product'].value_counts(normalize=True)\n",
    "age_marginal = data['Age'].value_counts(normalize=True)\n",
    "gender_marginal = data['Gender'].value_counts(normalize=True)\n",
    "education_marginal = data['Education'].value_counts(normalize=True)\n",
    "maritalstatus_marginal = data['MaritalStatus'].value_counts(normalize=True)\n",
    "fitness_marginal = data['Fitness'].value_counts(normalize=True)\n",
    "\n",
    "# Display marginal probabilities\n",
    "product_marginal\n",
    "age_marginal\n",
    "gender_marginal\n",
    "education_marginal\n",
    "maritalstatus_marginal\n",
    "fitness_marginal\n"
   ]
  },
  {
   "cell_type": "code",
   "execution_count": 12,
   "metadata": {},
   "outputs": [
    {
     "name": "stdout",
     "output_type": "stream",
     "text": [
      "KP281 Summary:\n",
      "             Age  Gender  Education  MaritalStatus      Usage   Fitness  \\\n",
      "count  80.000000     0.0  80.000000            0.0  80.000000  80.00000   \n",
      "mean   28.550000     NaN  15.037500            NaN   3.087500   2.96250   \n",
      "std     7.221452     NaN   1.216383            NaN   0.782624   0.66454   \n",
      "min    18.000000     NaN  12.000000            NaN   2.000000   1.00000   \n",
      "25%    23.000000     NaN  14.000000            NaN   3.000000   3.00000   \n",
      "50%    26.000000     NaN  16.000000            NaN   3.000000   3.00000   \n",
      "75%    33.000000     NaN  16.000000            NaN   4.000000   3.00000   \n",
      "max    50.000000     NaN  18.000000            NaN   5.000000   5.00000   \n",
      "\n",
      "            Income       Miles  \n",
      "count     80.00000   80.000000  \n",
      "mean   46418.02500   82.787500  \n",
      "std     9075.78319   28.874102  \n",
      "min    29562.00000   38.000000  \n",
      "25%    38658.00000   66.000000  \n",
      "50%    46617.00000   85.000000  \n",
      "75%    53439.00000   94.000000  \n",
      "max    68220.00000  188.000000  \n"
     ]
    }
   ],
   "source": [
    "# Insights and recommendations\n",
    "# For each product, summarize the key characteristics of the target audience and provide business insights.\n",
    "\n",
    "# Example for KP281\n",
    "kp281 = data[data['Product'] == 'KP281']\n",
    "kp281_summary = kp281.describe()\n",
    "\n",
    "print(\"KP281 Summary:\")\n",
    "print(kp281_summary)\n"
   ]
  },
  {
   "cell_type": "code",
   "execution_count": null,
   "metadata": {},
   "outputs": [],
   "source": []
  }
 ],
 "metadata": {
  "colab": {
   "provenance": []
  },
  "kernelspec": {
   "display_name": "Python 3 (ipykernel)",
   "language": "python",
   "name": "python3"
  },
  "language_info": {
   "codemirror_mode": {
    "name": "ipython",
    "version": 3
   },
   "file_extension": ".py",
   "mimetype": "text/x-python",
   "name": "python",
   "nbconvert_exporter": "python",
   "pygments_lexer": "ipython3",
   "version": "3.11.5"
  }
 },
 "nbformat": 4,
 "nbformat_minor": 1
}
